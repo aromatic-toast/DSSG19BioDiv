{
 "cells": [
  {
   "cell_type": "code",
   "execution_count": 1,
   "metadata": {},
   "outputs": [],
   "source": [
    "import geopandas as gpd\n",
    "import pandas as pd\n",
    "import matplotlib.pyplot as plt\n",
    "import descartes\n",
    "from shapely.geometry import Point, Polygon"
   ]
  },
  {
   "cell_type": "code",
   "execution_count": 4,
   "metadata": {},
   "outputs": [],
   "source": [
    "from shapely.geometry import Point\n",
    "from shapely.geometry.polygon import Polygon\n",
    "point = Point(0.5, 0.5)\n",
    "polygon = Polygon([(-123.26494, 49.26512), (-123.26308, 49.25894), (-123.25409, 49.25118), (-123.22587, 49.23889), (-123.19758, 49.23532),(-123.1979, 49.24501), (-123.2054, 49.24898),(-123.20218, 49.25358),(-123.20382, 49.25832),(-123.21564, 49.25873),(-123.21564, 49.26374),(-123.22793, 49.26326),(-123.22896, 49.26656),(-123.22264, 49.26889),(-123.2269, 49.27322),(-123.22662, 49.27947),(-123.24743, 49.2805),(-123.26267, 49.27047),(-123.26494, 49.26512)])\n"
   ]
  },
  {
   "cell_type": "code",
   "execution_count": 5,
   "metadata": {},
   "outputs": [],
   "source": [
    "# manual coordinate filter for UBC region\n",
    "# df_UBC = geo_df[geo_df.apply(lambda x: polygon.contains(x['geometry']), axis = 1)]"
   ]
  },
  {
   "cell_type": "code",
   "execution_count": 6,
   "metadata": {},
   "outputs": [],
   "source": [
    "df_UBC = pd.read_csv(\"Gbif_UBC.csv\", delimiter=\"\\t\", low_memory=False)"
   ]
  },
  {
   "cell_type": "code",
   "execution_count": 7,
   "metadata": {},
   "outputs": [],
   "source": [
    "geometry = [Point(xy) for xy in zip (df_UBC['decimalLongitude'], df_UBC['decimalLatitude'])]"
   ]
  },
  {
   "cell_type": "code",
   "execution_count": 8,
   "metadata": {},
   "outputs": [],
   "source": [
    "geo_df = gpd.GeoDataFrame(df_UBC, geometry = geometry, crs = {'init': 'epsg:4326'})"
   ]
  },
  {
   "cell_type": "code",
   "execution_count": 9,
   "metadata": {},
   "outputs": [],
   "source": [
    "UBC_poly = [(-123.26494, 49.26512), (-123.26308, 49.25894), (-123.25409, 49.25118), (-123.22587, 49.23889), (-123.19758, 49.23532),(-123.1979, 49.24501), (-123.2054, 49.24898),(-123.20218, 49.25358),(-123.20382, 49.25832),(-123.21564, 49.25873),(-123.21564, 49.26374),(-123.22793, 49.26326),(-123.22896, 49.26656),(-123.22264, 49.26889),(-123.2269, 49.27322),(-123.22662, 49.27947),(-123.24743, 49.2805),(-123.26267, 49.27047),(-123.26494, 49.26512)]\n",
    "\n",
    "\n",
    "min_long = 100\n",
    "min_lat = 100\n",
    "\n",
    "for val in UBC_poly:\n",
    "    if (val[0] < min_long):\n",
    "        min_long = val[0]\n",
    "    if (val[1] < min_lat):\n",
    "        min_lat = val[1]\n",
    "        \n",
    "max_long = -200\n",
    "max_lat = -200\n",
    "\n",
    "for val in UBC_poly:\n",
    "    if (val[0] > max_long):\n",
    "        max_long = val[0]\n",
    "    if (val[1] > max_lat):\n",
    "        max_lat = val[1]\n",
    "        \n"
   ]
  }
 ],
 "metadata": {
  "kernelspec": {
   "display_name": "Python 2",
   "language": "python",
   "name": "python2"
  },
  "language_info": {
   "codemirror_mode": {
    "name": "ipython",
    "version": 2
   },
   "file_extension": ".py",
   "mimetype": "text/x-python",
   "name": "python",
   "nbconvert_exporter": "python",
   "pygments_lexer": "ipython2",
   "version": "2.7.16"
  }
 },
 "nbformat": 4,
 "nbformat_minor": 2
}
