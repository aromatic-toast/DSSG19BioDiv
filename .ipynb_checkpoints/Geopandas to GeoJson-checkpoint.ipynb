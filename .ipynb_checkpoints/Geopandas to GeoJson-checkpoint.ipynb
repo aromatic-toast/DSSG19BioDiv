{
 "cells": [
  {
   "cell_type": "code",
   "execution_count": 204,
   "metadata": {},
   "outputs": [],
   "source": [
    "import pandas as pd\n",
    "import geopandas as gpd\n",
    "from shapely.geometry import Point"
   ]
  },
  {
   "cell_type": "code",
   "execution_count": 207,
   "metadata": {},
   "outputs": [],
   "source": [
    "df_UBC = pd.read_csv(\"Gbif_UBC.csv\", delimiter=\"\\t\", low_memory=False)\n",
    "df_UBC = df_UBC.head(200)"
   ]
  },
  {
   "cell_type": "code",
   "execution_count": 208,
   "metadata": {},
   "outputs": [],
   "source": [
    "geometry = [Point(xy) for xy in zip (df_UBC['decimalLongitude'], df_UBC['decimalLatitude'])]"
   ]
  },
  {
   "cell_type": "code",
   "execution_count": 239,
   "metadata": {},
   "outputs": [],
   "source": [
    "import requests\n",
    "import json"
   ]
  },
  {
   "cell_type": "code",
   "execution_count": 221,
   "metadata": {},
   "outputs": [
    {
     "name": "stdout",
     "output_type": "stream",
     "text": [
      "{\n",
      "  \"message\": \"success\", \n",
      "  \"request\": {\n",
      "    \"altitude\": 100, \n",
      "    \"datetime\": 1560463731, \n",
      "    \"latitude\": 40.71, \n",
      "    \"longitude\": -74.0, \n",
      "    \"passes\": 5\n",
      "  }, \n",
      "  \"response\": [\n",
      "    {\n",
      "      \"duration\": 521, \n",
      "      \"risetime\": 1560467744\n",
      "    }, \n",
      "    {\n",
      "      \"duration\": 118, \n",
      "      \"risetime\": 1560516514\n",
      "    }, \n",
      "    {\n",
      "      \"duration\": 616, \n",
      "      \"risetime\": 1560522010\n",
      "    }, \n",
      "    {\n",
      "      \"duration\": 629, \n",
      "      \"risetime\": 1560527801\n",
      "    }, \n",
      "    {\n",
      "      \"duration\": 560, \n",
      "      \"risetime\": 1560533681\n",
      "    }\n",
      "  ]\n",
      "}\n",
      "\n"
     ]
    }
   ],
   "source": [
    "# Set up the parameters we want to pass to the API.\n",
    "# This is the latitude and longitude of New York City.\n",
    "parameters = {\"lat\": 40.71, \"lon\": -74}\n",
    "# Make a get request with the parameters.\n",
    "response = requests.get(\"http://api.open-notify.org/iss-pass.json\", params=parameters)\n",
    "# Print the content of the response (the data the server returned)\n",
    "#print(response.content)\n",
    "aboveresponse = requests.get(\"http://api.open-notify.org/iss-pass.json?lat=40.71&lon=-74\")\n",
    "print(aboveresponse.content)"
   ]
  },
  {
   "cell_type": "code",
   "execution_count": 289,
   "metadata": {},
   "outputs": [
    {
     "name": "stdout",
     "output_type": "stream",
     "text": [
      "27399\n"
     ]
    }
   ],
   "source": [
    "#parameters = {\"key\": \"50c9509d-22c7-4a22-a47d-8c48425ef4a7\"}\n",
    "response = requests.get(\"http://api.gbif.org/v1/dataset/50c9509d-22c7-4a22-a47d-8c48425ef4a7\")\n",
    "print(len(response.content))"
   ]
  },
  {
   "cell_type": "code",
   "execution_count": 304,
   "metadata": {},
   "outputs": [
    {
     "name": "stdout",
     "output_type": "stream",
     "text": [
      "<type 'dict'>\n",
      "<built-in method values of dict object at 0x000000001536C488>\n"
     ]
    }
   ],
   "source": [
    "data = response.json()\n",
    "print(type(data))\n",
    "print(data.values)"
   ]
  },
  {
   "cell_type": "code",
   "execution_count": 310,
   "metadata": {},
   "outputs": [
    {
     "data": {
      "text/plain": [
       "[u'installationKey',\n",
       " u'identifiers',\n",
       " u'key',\n",
       " u'dataLanguage',\n",
       " u'citation',\n",
       " u'curatorialUnits',\n",
       " u'geographicCoverages',\n",
       " u'countryCoverage',\n",
       " u'lockedForAutoUpdate',\n",
       " u'pubDate',\n",
       " u'title',\n",
       " u'keywordCollections',\n",
       " u'comments',\n",
       " u'samplingDescription',\n",
       " u'modifiedBy',\n",
       " u'collections',\n",
       " u'numConstituents',\n",
       " u'homepage',\n",
       " u'taxonomicCoverages',\n",
       " u'description',\n",
       " u'tags',\n",
       " u'contacts',\n",
       " u'external',\n",
       " u'createdBy',\n",
       " u'publishingOrganizationKey',\n",
       " u'dataDescriptions',\n",
       " u'doi',\n",
       " u'license',\n",
       " u'language',\n",
       " u'created',\n",
       " u'type',\n",
       " u'machineTags',\n",
       " u'modified',\n",
       " u'bibliographicCitations',\n",
       " u'logoUrl',\n",
       " u'endpoints',\n",
       " u'temporalCoverages',\n",
       " u'purpose']"
      ]
     },
     "execution_count": 310,
     "metadata": {},
     "output_type": "execute_result"
    }
   ],
   "source": [
    "list(data.keys())"
   ]
  },
  {
   "cell_type": "code",
   "execution_count": 315,
   "metadata": {},
   "outputs": [
    {
     "data": {
      "text/plain": [
       "u'iNaturalist Research-grade Observations'"
      ]
     },
     "execution_count": 315,
     "metadata": {},
     "output_type": "execute_result"
    }
   ],
   "source": [
    "data['title']"
   ]
  },
  {
   "cell_type": "code",
   "execution_count": 2,
   "metadata": {},
   "outputs": [],
   "source": [
    "s = ([])"
   ]
  },
  {
   "cell_type": "code",
   "execution_count": null,
   "metadata": {},
   "outputs": [],
   "source": []
  },
  {
   "cell_type": "code",
   "execution_count": 321,
   "metadata": {},
   "outputs": [
    {
     "name": "stdout",
     "output_type": "stream",
     "text": [
      "['2429287b-ef65-4cfd-afcc-11cc3ba95cca'\n",
      " '50c9509d-22c7-4a22-a47d-8c48425ef4a7'\n",
      " 'b1047888-ae52-4179-9dd5-5448ea342a24'\n",
      " '07fd0d79-4883-435f-bba1-58fef110cd13'\n",
      " '4edd9396-59df-4b01-9e29-dc21a59f9963'\n",
      " 'ad43e954-dd79-4986-ae34-9ccdbd8bf568'\n",
      " '27b4ff4b-29c3-4017-9c48-3750861392f7'\n",
      " '4fa7b334-ce0d-4e88-aaae-2e0c138d049e']\n"
     ]
    }
   ],
   "source": [
    "print(df_UBC['datasetKey'].unique())\n",
    "for k in df_UBC['datasetKey'].unique()\n",
    "    url = \"http://api.gbif.org/v1/dataset/\" + k\n",
    "    response = requests.get(url)\n",
    "\n",
    "    "
   ]
  },
  {
   "cell_type": "code",
   "execution_count": 324,
   "metadata": {},
   "outputs": [
    {
     "name": "stdout",
     "output_type": "stream",
     "text": [
      "http://api.gbif.org/v1/dataset/2429287b-ef65-4cfd-afcc-11cc3ba95cca\n"
     ]
    }
   ],
   "source": [
    "k = '2429287b-ef65-4cfd-afcc-11cc3ba95cca'\n",
    "url = \"http://api.gbif.org/v1/dataset/\" + k\n",
    "print(url)"
   ]
  },
  {
   "cell_type": "code",
   "execution_count": null,
   "metadata": {},
   "outputs": [],
   "source": []
  },
  {
   "cell_type": "code",
   "execution_count": null,
   "metadata": {},
   "outputs": [],
   "source": [
    "response = requests.get(\"http://api.gbif.org/v1/dataset/50c9509d-22c7-4a22-a47d-8c48425ef4a7\")"
   ]
  },
  {
   "cell_type": "code",
   "execution_count": null,
   "metadata": {},
   "outputs": [],
   "source": []
  },
  {
   "cell_type": "code",
   "execution_count": 206,
   "metadata": {},
   "outputs": [
    {
     "ename": "ValueError",
     "evalue": "Geometry column cannot contain mutiple geometry types when writing to file.",
     "output_type": "error",
     "traceback": [
      "\u001b[1;31m---------------------------------------------------------------------------\u001b[0m",
      "\u001b[1;31mValueError\u001b[0m                                Traceback (most recent call last)",
      "\u001b[1;32m<ipython-input-206-e599ede1411a>\u001b[0m in \u001b[0;36m<module>\u001b[1;34m()\u001b[0m\n\u001b[1;32m----> 1\u001b[1;33m \u001b[0mgeo_df\u001b[0m\u001b[1;33m.\u001b[0m\u001b[0mto_file\u001b[0m\u001b[1;33m(\u001b[0m\u001b[1;34m\"leaflet/UBC_alt.geojson\"\u001b[0m\u001b[1;33m,\u001b[0m \u001b[0mdriver\u001b[0m\u001b[1;33m=\u001b[0m\u001b[1;34m\"GeoJSON\"\u001b[0m\u001b[1;33m)\u001b[0m\u001b[1;33m\u001b[0m\u001b[0m\n\u001b[0m",
      "\u001b[1;32mC:\\Users\\Gabe\\Anaconda3\\envs\\jupy\\lib\\site-packages\\geopandas\\geodataframe.pyc\u001b[0m in \u001b[0;36mto_file\u001b[1;34m(self, filename, driver, schema, **kwargs)\u001b[0m\n\u001b[0;32m    363\u001b[0m         \"\"\"\n\u001b[0;32m    364\u001b[0m         \u001b[1;32mfrom\u001b[0m \u001b[0mgeopandas\u001b[0m\u001b[1;33m.\u001b[0m\u001b[0mio\u001b[0m\u001b[1;33m.\u001b[0m\u001b[0mfile\u001b[0m \u001b[1;32mimport\u001b[0m \u001b[0mto_file\u001b[0m\u001b[1;33m\u001b[0m\u001b[0m\n\u001b[1;32m--> 365\u001b[1;33m         \u001b[0mto_file\u001b[0m\u001b[1;33m(\u001b[0m\u001b[0mself\u001b[0m\u001b[1;33m,\u001b[0m \u001b[0mfilename\u001b[0m\u001b[1;33m,\u001b[0m \u001b[0mdriver\u001b[0m\u001b[1;33m,\u001b[0m \u001b[0mschema\u001b[0m\u001b[1;33m,\u001b[0m \u001b[1;33m**\u001b[0m\u001b[0mkwargs\u001b[0m\u001b[1;33m)\u001b[0m\u001b[1;33m\u001b[0m\u001b[0m\n\u001b[0m\u001b[0;32m    366\u001b[0m \u001b[1;33m\u001b[0m\u001b[0m\n\u001b[0;32m    367\u001b[0m     \u001b[1;32mdef\u001b[0m \u001b[0mto_crs\u001b[0m\u001b[1;33m(\u001b[0m\u001b[0mself\u001b[0m\u001b[1;33m,\u001b[0m \u001b[0mcrs\u001b[0m\u001b[1;33m=\u001b[0m\u001b[0mNone\u001b[0m\u001b[1;33m,\u001b[0m \u001b[0mepsg\u001b[0m\u001b[1;33m=\u001b[0m\u001b[0mNone\u001b[0m\u001b[1;33m,\u001b[0m \u001b[0minplace\u001b[0m\u001b[1;33m=\u001b[0m\u001b[0mFalse\u001b[0m\u001b[1;33m)\u001b[0m\u001b[1;33m:\u001b[0m\u001b[1;33m\u001b[0m\u001b[0m\n",
      "\u001b[1;32mC:\\Users\\Gabe\\Anaconda3\\envs\\jupy\\lib\\site-packages\\geopandas\\io\\file.pyc\u001b[0m in \u001b[0;36mto_file\u001b[1;34m(df, filename, driver, schema, **kwargs)\u001b[0m\n\u001b[0;32m     58\u001b[0m     \"\"\"\n\u001b[0;32m     59\u001b[0m     \u001b[1;32mif\u001b[0m \u001b[0mschema\u001b[0m \u001b[1;32mis\u001b[0m \u001b[0mNone\u001b[0m\u001b[1;33m:\u001b[0m\u001b[1;33m\u001b[0m\u001b[0m\n\u001b[1;32m---> 60\u001b[1;33m         \u001b[0mschema\u001b[0m \u001b[1;33m=\u001b[0m \u001b[0minfer_schema\u001b[0m\u001b[1;33m(\u001b[0m\u001b[0mdf\u001b[0m\u001b[1;33m)\u001b[0m\u001b[1;33m\u001b[0m\u001b[0m\n\u001b[0m\u001b[0;32m     61\u001b[0m     \u001b[0mfilename\u001b[0m \u001b[1;33m=\u001b[0m \u001b[0mos\u001b[0m\u001b[1;33m.\u001b[0m\u001b[0mpath\u001b[0m\u001b[1;33m.\u001b[0m\u001b[0mabspath\u001b[0m\u001b[1;33m(\u001b[0m\u001b[0mos\u001b[0m\u001b[1;33m.\u001b[0m\u001b[0mpath\u001b[0m\u001b[1;33m.\u001b[0m\u001b[0mexpanduser\u001b[0m\u001b[1;33m(\u001b[0m\u001b[0mfilename\u001b[0m\u001b[1;33m)\u001b[0m\u001b[1;33m)\u001b[0m\u001b[1;33m\u001b[0m\u001b[0m\n\u001b[0;32m     62\u001b[0m     \u001b[1;32mwith\u001b[0m \u001b[0mfiona\u001b[0m\u001b[1;33m.\u001b[0m\u001b[0mdrivers\u001b[0m\u001b[1;33m(\u001b[0m\u001b[1;33m)\u001b[0m\u001b[1;33m:\u001b[0m\u001b[1;33m\u001b[0m\u001b[0m\n",
      "\u001b[1;32mC:\\Users\\Gabe\\Anaconda3\\envs\\jupy\\lib\\site-packages\\geopandas\\io\\file.pyc\u001b[0m in \u001b[0;36minfer_schema\u001b[1;34m(df)\u001b[0m\n\u001b[0;32m     88\u001b[0m     \u001b[0mgeom_type\u001b[0m \u001b[1;33m=\u001b[0m \u001b[0m_common_geom_type\u001b[0m\u001b[1;33m(\u001b[0m\u001b[0mdf\u001b[0m\u001b[1;33m)\u001b[0m\u001b[1;33m\u001b[0m\u001b[0m\n\u001b[0;32m     89\u001b[0m     \u001b[1;32mif\u001b[0m \u001b[1;32mnot\u001b[0m \u001b[0mgeom_type\u001b[0m\u001b[1;33m:\u001b[0m\u001b[1;33m\u001b[0m\u001b[0m\n\u001b[1;32m---> 90\u001b[1;33m         raise ValueError(\"Geometry column cannot contain mutiple \"\n\u001b[0m\u001b[0;32m     91\u001b[0m                          \"geometry types when writing to file.\")\n\u001b[0;32m     92\u001b[0m \u001b[1;33m\u001b[0m\u001b[0m\n",
      "\u001b[1;31mValueError\u001b[0m: Geometry column cannot contain mutiple geometry types when writing to file."
     ]
    }
   ],
   "source": [
    "geo_df.to_file(\"leaflet/UBC_alt.geojson\", driver=\"GeoJSON\")"
   ]
  },
  {
   "cell_type": "code",
   "execution_count": 192,
   "metadata": {},
   "outputs": [],
   "source": [
    "geo_df = gpd.GeoDataFrame(df_UBC, geometry = geometry, crs = {'init': 'epsg:4326'})"
   ]
  },
  {
   "cell_type": "code",
   "execution_count": 193,
   "metadata": {},
   "outputs": [],
   "source": [
    "#geo_df = geo_df.rename(columns={'eventDate' : 'time'})"
   ]
  },
  {
   "cell_type": "code",
   "execution_count": 194,
   "metadata": {},
   "outputs": [],
   "source": [
    "geo_df = geo_df.dropna()\n",
    "geo_df[['day','month','year']] = geo_df[['day','month','year']].astype(int)\n",
    "geo_df['time'] = pd.to_datetime(geo_df[['day','month','year']])"
   ]
  },
  {
   "cell_type": "code",
   "execution_count": 188,
   "metadata": {},
   "outputs": [
    {
     "data": {
      "text/plain": [
       "gbifID                                    int64:dense\n",
       "datasetKey                               object:dense\n",
       "occurrenceID                             object:dense\n",
       "kingdom                                  object:dense\n",
       "phylum                                   object:dense\n",
       "class                                    object:dense\n",
       "order                                    object:dense\n",
       "family                                   object:dense\n",
       "genus                                    object:dense\n",
       "species                                  object:dense\n",
       "infraspecificEpithet                     object:dense\n",
       "taxonRank                                object:dense\n",
       "scientificName                           object:dense\n",
       "countryCode                              object:dense\n",
       "locality                                 object:dense\n",
       "publishingOrgKey                         object:dense\n",
       "decimalLatitude                         float64:dense\n",
       "decimalLongitude                        float64:dense\n",
       "coordinateUncertaintyInMeters           float64:dense\n",
       "coordinatePrecision                     float64:dense\n",
       "elevation                               float64:dense\n",
       "elevationAccuracy                       float64:dense\n",
       "depth                                   float64:dense\n",
       "depthAccuracy                           float64:dense\n",
       "eventDate                                object:dense\n",
       "day                                       int32:dense\n",
       "month                                     int32:dense\n",
       "year                                      int32:dense\n",
       "taxonKey                                  int64:dense\n",
       "speciesKey                              float64:dense\n",
       "basisOfRecord                            object:dense\n",
       "institutionCode                          object:dense\n",
       "collectionCode                           object:dense\n",
       "catalogNumber                            object:dense\n",
       "recordNumber                             object:dense\n",
       "identifiedBy                             object:dense\n",
       "dateIdentified                           object:dense\n",
       "license                                  object:dense\n",
       "rightsHolder                             object:dense\n",
       "recordedBy                               object:dense\n",
       "typeStatus                               object:dense\n",
       "establishmentMeans                       object:dense\n",
       "lastInterpreted                          object:dense\n",
       "mediaType                                object:dense\n",
       "issue                                    object:dense\n",
       "geometry                                 object:dense\n",
       "time                             datetime64[ns]:dense\n",
       "dtype: object"
      ]
     },
     "execution_count": 188,
     "metadata": {},
     "output_type": "execute_result"
    }
   ],
   "source": [
    "geo_df.ftypes"
   ]
  },
  {
   "cell_type": "code",
   "execution_count": null,
   "metadata": {},
   "outputs": [],
   "source": []
  }
 ],
 "metadata": {
  "kernelspec": {
   "display_name": "Python 2",
   "language": "python",
   "name": "python2"
  },
  "language_info": {
   "codemirror_mode": {
    "name": "ipython",
    "version": 2
   },
   "file_extension": ".py",
   "mimetype": "text/x-python",
   "name": "python",
   "nbconvert_exporter": "python",
   "pygments_lexer": "ipython2",
   "version": "2.7.16"
  }
 },
 "nbformat": 4,
 "nbformat_minor": 2
}
