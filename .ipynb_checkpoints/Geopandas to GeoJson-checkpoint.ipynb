{
 "cells": [
  {
   "cell_type": "code",
   "execution_count": 359,
   "metadata": {},
   "outputs": [],
   "source": [
    "import pandas as pd\n",
    "import geopandas as gpd\n",
    "from shapely.geometry import Point\n",
    "from geojson import GeometryCollection\n",
    "import geojson"
   ]
  },
  {
   "cell_type": "code",
   "execution_count": 360,
   "metadata": {},
   "outputs": [],
   "source": [
    "# Point data to geoJSON\n",
    "import random\n",
    "\n",
    "df_red = pd.read_csv(\"redlist_assessments.csv\")\n",
    "\n",
    "# Assume: RedList scientific correspond to UBC species\n",
    "red_sciNames = df_red.scientificName\n",
    "\n",
    "def some(x, n):\n",
    "    return x.loc[random.sample(x.index, n)]\n",
    "\n",
    "def pointCSVtoJSON(filename, num_rows=0):\n",
    "    df = pd.read_csv(filename, delimiter=\"\\t\", low_memory=False)\n",
    "    if (num_rows):\n",
    "        df = some(df, num_rows)\n",
    "    geometry = [Point(xy) for xy in zip (df['decimalLongitude'], df['decimalLatitude'])]\n",
    "    geo_df = gpd.GeoDataFrame(df, geometry = geometry, crs = {'init': 'epsg:4326'})\n",
    "    \n",
    "    # gbif_geo_df = gbif_geo_df[gbif_geo_df['species'].isin(red_sciNames)]\n",
    "    geo_df['redList'] = geo_df.apply(lambda x: int(x['species']in red_sciNames.values), 1).values\n",
    "\n",
    "    geo_df.to_file(\"leaflet/\" + filename.split('.')[0] + '.geojson', driver=\"GeoJSON\")\n",
    "    return geo_df"
   ]
  },
  {
   "cell_type": "code",
   "execution_count": 361,
   "metadata": {},
   "outputs": [],
   "source": [
    "gbif_geo_df = pointCSVtoJSON('gbif_tot.csv', 2000)"
   ]
  },
  {
   "cell_type": "code",
   "execution_count": 335,
   "metadata": {},
   "outputs": [],
   "source": [
    "# gbif_geo_df.to_file(\"leaflet/\" +'red.geojson', driver=\"GeoJSON\")"
   ]
  },
  {
   "cell_type": "code",
   "execution_count": 307,
   "metadata": {},
   "outputs": [],
   "source": [
    "# SHP data to geoJSON\n",
    "def fix_crs(map_ob):\n",
    "    return map_ob.to_crs({'init': 'epsg:4326'})\n",
    "str_map = gpd.read_file(\"ecological_reserves/BC_Eco_Reserves.shp\")\n",
    "str_map = fix_crs(str_map)"
   ]
  },
  {
   "cell_type": "code",
   "execution_count": 308,
   "metadata": {},
   "outputs": [],
   "source": [
    "# # GeoJSON does not support multipolygon. Doesn't work\n",
    "# str_map.to_file(\"leaflet/UBC_poly.geojson\", driver=\"GeoJSON\")\n",
    "\n",
    "# # fiona doesn't work\n",
    "# import fiona\n",
    "# import json\n",
    "\n",
    "# with fiona.open('ecological_reserves/BC_Eco_Reserves.shp') as source:\n",
    "#     records = list(source)\n",
    "# geo_json = {\"type\": \"FeatureCollection\",\"features\": records}\n",
    "# with open('leaflet/UBC_poly.geojson', 'w') as fp:\n",
    "#     json.dump(geo_json, fp)"
   ]
  },
  {
   "cell_type": "code",
   "execution_count": 309,
   "metadata": {},
   "outputs": [],
   "source": [
    "# Convert multipolygon to single polygons"
   ]
  },
  {
   "cell_type": "code",
   "execution_count": 310,
   "metadata": {},
   "outputs": [],
   "source": [
    "geom_series = str_map.geometry"
   ]
  },
  {
   "cell_type": "code",
   "execution_count": 311,
   "metadata": {},
   "outputs": [],
   "source": [
    "def geom_apply(x):\n",
    "    try:\n",
    "        return list(x)\n",
    "    except TypeError:\n",
    "        return [x]"
   ]
  },
  {
   "cell_type": "code",
   "execution_count": 312,
   "metadata": {},
   "outputs": [],
   "source": [
    "geom_series = geom_series.apply(geom_apply)"
   ]
  },
  {
   "cell_type": "code",
   "execution_count": 313,
   "metadata": {},
   "outputs": [],
   "source": [
    "geom_series = geom_series.apply(pd.Series).stack()"
   ]
  },
  {
   "cell_type": "code",
   "execution_count": 314,
   "metadata": {},
   "outputs": [],
   "source": [
    "# # Quick but loses properties\n",
    "# list_poly = list(geom_series)\n",
    "# geoms = GeometryCollection(list_poly)\n",
    "# geo_file = geojson.dumps(geoms)\n",
    "# with open(\"leaflet/UBC_poly.geojson\", \"w\") as text_file:\n",
    "#     text_file.write(geo_file)"
   ]
  },
  {
   "cell_type": "code",
   "execution_count": 315,
   "metadata": {},
   "outputs": [],
   "source": [
    "# Careful! Deep copy required here to avoid chaining\n",
    "\n",
    "df = pd.DataFrame(columns=str_map.columns)\n",
    "for ind, poly in geom_series.iteritems():\n",
    "    curr_row = str_map.loc[ind[0]].copy(deep=True)\n",
    "    curr_row['geometry'] = poly\n",
    "    df = df.append(curr_row)\n",
    "\n",
    "df_gpd = gpd.GeoDataFrame(df,geometry = df.geometry, crs = {'init': 'epsg:4326'})\n",
    "df_gpd.to_file(\"leaflet/UBC_poly.geojson\", driver=\"GeoJSON\")"
   ]
  },
  {
   "cell_type": "code",
   "execution_count": null,
   "metadata": {},
   "outputs": [],
   "source": []
  }
 ],
 "metadata": {
  "kernelspec": {
   "display_name": "Python (jupy2)",
   "language": "python",
   "name": "jupy2"
  },
  "language_info": {
   "codemirror_mode": {
    "name": "ipython",
    "version": 2
   },
   "file_extension": ".py",
   "mimetype": "text/x-python",
   "name": "python",
   "nbconvert_exporter": "python",
   "pygments_lexer": "ipython2",
   "version": "2.7.16"
  }
 },
 "nbformat": 4,
 "nbformat_minor": 2
}
