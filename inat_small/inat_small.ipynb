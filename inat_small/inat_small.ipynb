{
 "cells": [
  {
   "cell_type": "code",
   "execution_count": 237,
   "metadata": {},
   "outputs": [],
   "source": [
    "import pandas as pd"
   ]
  },
  {
   "cell_type": "code",
   "execution_count": 238,
   "metadata": {},
   "outputs": [],
   "source": [
    "df = pd.read_csv(\"inat_UBC.csv\", delimiter=\"\\t\")"
   ]
  },
  {
   "cell_type": "code",
   "execution_count": 239,
   "metadata": {},
   "outputs": [
    {
     "data": {
      "text/plain": [
       "Index([u'gbifID', u'datasetKey', u'occurrenceID', u'kingdom', u'phylum',\n",
       "       u'class', u'order', u'family', u'genus', u'species',\n",
       "       u'infraspecificEpithet', u'taxonRank', u'scientificName',\n",
       "       u'countryCode', u'locality', u'publishingOrgKey', u'decimalLatitude',\n",
       "       u'decimalLongitude', u'coordinateUncertaintyInMeters',\n",
       "       u'coordinatePrecision', u'elevation', u'elevationAccuracy', u'depth',\n",
       "       u'depthAccuracy', u'eventDate', u'day', u'month', u'year', u'taxonKey',\n",
       "       u'speciesKey', u'basisOfRecord', u'institutionCode', u'collectionCode',\n",
       "       u'catalogNumber', u'recordNumber', u'identifiedBy', u'dateIdentified',\n",
       "       u'license', u'rightsHolder', u'recordedBy', u'typeStatus',\n",
       "       u'establishmentMeans', u'lastInterpreted', u'mediaType', u'issue'],\n",
       "      dtype='object')"
      ]
     },
     "execution_count": 239,
     "metadata": {},
     "output_type": "execute_result"
    }
   ],
   "source": [
    "df.columns"
   ]
  },
  {
   "cell_type": "markdown",
   "metadata": {},
   "source": [
    "<h3> Taxonomy Tree </h3>"
   ]
  },
  {
   "cell_type": "code",
   "execution_count": 240,
   "metadata": {},
   "outputs": [],
   "source": [
    "allLevels = ['kingdom', 'phylum', 'class', 'order', 'family', 'genus', 'species', 'end']\n",
    "taxLevel = ['kingdom', 'phylum', 'class', 'order', 'family', 'genus', 'species', 'end']\n",
    "df = df.drop((set(allLevels) - set(taxLevel)), 1)\n",
    "\n",
    "def getDict(taxLevelIndex, prevIndex):\n",
    "    list_dicts = []\n",
    "    if taxLevel[taxLevelIndex] == 'end':\n",
    "        return []\n",
    "    if taxLevel[taxLevelIndex] == 'kingdom':\n",
    "        indexes = df.groupby(taxLevel[taxLevelIndex]).size().index.to_list()\n",
    "        #values = list(df.groupby(taxLevel[taxLevelIndex]).size().values)\n",
    "    else:\n",
    "        indexes = df[df[taxLevel[taxLevelIndex-1]] == prevIndex].groupby(taxLevel[taxLevelIndex]).size().index.to_list()\n",
    "\n",
    "    for index in indexes:\n",
    "        list_dicts.append({\"name\": index, \"children\": getDict(taxLevelIndex + 1, index)})\n",
    "\n",
    "    return list_dicts\n",
    "    \n",
    "    #return a dictionary of name and children\n",
    "    "
   ]
  },
  {
   "cell_type": "code",
   "execution_count": 241,
   "metadata": {},
   "outputs": [],
   "source": [
    "json_dict = getDict(0, \"blah\")"
   ]
  },
  {
   "cell_type": "code",
   "execution_count": 242,
   "metadata": {},
   "outputs": [],
   "source": [
    "json_dict = {\"name\": \"Kingdom\", \"children\": json_dict}"
   ]
  },
  {
   "cell_type": "code",
   "execution_count": 243,
   "metadata": {},
   "outputs": [],
   "source": [
    "import json\n",
    "\n",
    "with open('../d3_tree/flare.json', 'w') as fp:\n",
    "    json.dump(json_dict, fp)"
   ]
  },
  {
   "cell_type": "code",
   "execution_count": null,
   "metadata": {},
   "outputs": [],
   "source": []
  }
 ],
 "metadata": {
  "kernelspec": {
   "display_name": "Python (jupy2)",
   "language": "python",
   "name": "jupy2"
  },
  "language_info": {
   "codemirror_mode": {
    "name": "ipython",
    "version": 2
   },
   "file_extension": ".py",
   "mimetype": "text/x-python",
   "name": "python",
   "nbconvert_exporter": "python",
   "pygments_lexer": "ipython2",
   "version": "2.7.16"
  }
 },
 "nbformat": 4,
 "nbformat_minor": 2
}
