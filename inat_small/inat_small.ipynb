{
 "cells": [
  {
   "cell_type": "code",
   "execution_count": 527,
   "metadata": {},
   "outputs": [],
   "source": [
    "import pandas as pd"
   ]
  },
  {
   "cell_type": "code",
   "execution_count": 528,
   "metadata": {},
   "outputs": [],
   "source": [
    "df = pd.read_csv(\"inat_UBC.csv\", delimiter=\"\\t\")"
   ]
  },
  {
   "cell_type": "code",
   "execution_count": 529,
   "metadata": {},
   "outputs": [
    {
     "data": {
      "text/plain": [
       "Index([u'gbifID', u'datasetKey', u'occurrenceID', u'kingdom', u'phylum',\n",
       "       u'class', u'order', u'family', u'genus', u'species',\n",
       "       u'infraspecificEpithet', u'taxonRank', u'scientificName',\n",
       "       u'countryCode', u'locality', u'publishingOrgKey', u'decimalLatitude',\n",
       "       u'decimalLongitude', u'coordinateUncertaintyInMeters',\n",
       "       u'coordinatePrecision', u'elevation', u'elevationAccuracy', u'depth',\n",
       "       u'depthAccuracy', u'eventDate', u'day', u'month', u'year', u'taxonKey',\n",
       "       u'speciesKey', u'basisOfRecord', u'institutionCode', u'collectionCode',\n",
       "       u'catalogNumber', u'recordNumber', u'identifiedBy', u'dateIdentified',\n",
       "       u'license', u'rightsHolder', u'recordedBy', u'typeStatus',\n",
       "       u'establishmentMeans', u'lastInterpreted', u'mediaType', u'issue'],\n",
       "      dtype='object')"
      ]
     },
     "execution_count": 529,
     "metadata": {},
     "output_type": "execute_result"
    }
   ],
   "source": [
    "df.columns"
   ]
  },
  {
   "cell_type": "code",
   "execution_count": 530,
   "metadata": {},
   "outputs": [],
   "source": [
    "df = df.head(1000)"
   ]
  },
  {
   "cell_type": "markdown",
   "metadata": {},
   "source": [
    "<h3> Taxonomy Tree </h3>"
   ]
  },
  {
   "cell_type": "code",
   "execution_count": 531,
   "metadata": {},
   "outputs": [],
   "source": [
    "# allLevels = ['kingdom', 'phylum', 'class', 'order', 'family', 'genus', 'species', 'end']\n",
    "# taxLevel = ['kingdom', 'phylum', 'class', 'order', 'family', 'genus', 'species', 'end']\n",
    "# df = df.drop((set(allLevels) - set(taxLevel)), 1)\n",
    "\n",
    "# def getDict(taxLevelIndex, prevIndex):\n",
    "#     list_dicts = []\n",
    "#     if taxLevel[taxLevelIndex] == 'end':\n",
    "#         return []\n",
    "#     if taxLevel[taxLevelIndex] == 'kingdom':\n",
    "#         df_size = df.shape[0]\n",
    "#         indexes = df.groupby(taxLevel[taxLevelIndex]).size().index.to_list()\n",
    "#         values = list(df.groupby(taxLevel[taxLevelIndex]).size().values)\n",
    "#     else:\n",
    "#         df_size = df[df[taxLevel[taxLevelIndex-1]] == prevIndex].shape[0]\n",
    "#         indexes = df[df[taxLevel[taxLevelIndex-1]] == prevIndex].groupby(taxLevel[taxLevelIndex]).size().index.to_list()\n",
    "#         values = list(df[df[taxLevel[taxLevelIndex-1]] == prevIndex].groupby(taxLevel[taxLevelIndex]).size().values)\n",
    "        \n",
    "#     for i, index in enumerate(indexes):\n",
    "#         list_dicts.append({\"name\": index, \"size\": values[i], \"ratio\": (1.0 * values[i])/df_size, \"children\": getDict(taxLevelIndex + 1, index)})\n",
    "    \n",
    "    \n",
    "#     return list_dicts\n",
    "    \n",
    "#     #return a dictionary of name and children\n",
    "    "
   ]
  },
  {
   "cell_type": "code",
   "execution_count": 532,
   "metadata": {},
   "outputs": [],
   "source": [
    "allLevels = ['kingdom', 'phylum', 'class', 'order', 'family', 'genus', 'species', 'end']\n",
    "taxLevel = ['kingdom', 'phylum', 'class', 'order', 'family', 'genus', 'species', 'end']\n",
    "df = df.drop((set(allLevels) - set(taxLevel)), 1)\n",
    "\n",
    "def getDict(taxLevelIndex, prevIndex):\n",
    "    list_dicts = []\n",
    "    if taxLevel[taxLevelIndex] == 'end':\n",
    "        return ([], 0)\n",
    "    if taxLevel[taxLevelIndex] == 'kingdom':\n",
    "        df_size = df.shape[0]\n",
    "        gp = df.groupby(taxLevel[taxLevelIndex])\n",
    "        \n",
    "    else:\n",
    "        df_size = df[df[taxLevel[taxLevelIndex-1]] == prevIndex].shape[0]\n",
    "        gp = df[df[taxLevel[taxLevelIndex-1]] == prevIndex].groupby(taxLevel[taxLevelIndex])\n",
    "        \n",
    "    indexes = gp.size().index.to_list()\n",
    "    values = list(gp.size().values)\n",
    "    num_types = len(gp)\n",
    "    ind_val = zip(indexes, values)\n",
    "    ind_val.sort(key=lambda tup: tup[1], reverse = True)\n",
    "    for i in ind_val:\n",
    "        index = i[0]\n",
    "        value = i[1]\n",
    "        next_data, num_types_next = getDict(taxLevelIndex + 1, index)\n",
    "        list_dicts.append({\"name\": index, \"types\": num_types_next, \"size\": value, \"ratio\": (1.0 * value)/df_size, \"children\": next_data})\n",
    "    \n",
    "    \n",
    "    return (list_dicts, num_types)\n",
    "    \n",
    "    #return a dictionary of name and children\n",
    "    "
   ]
  },
  {
   "cell_type": "code",
   "execution_count": 533,
   "metadata": {},
   "outputs": [],
   "source": [
    "json_dict, num_types = getDict(0, \"blah\")"
   ]
  },
  {
   "cell_type": "code",
   "execution_count": 534,
   "metadata": {},
   "outputs": [],
   "source": [
    "json_dict = {\"name\": \"Organisms\", \"types\": num_types, \"children\": json_dict, \"ratio\": 1.0, \"size\": df.shape[0]}"
   ]
  },
  {
   "cell_type": "code",
   "execution_count": 535,
   "metadata": {},
   "outputs": [],
   "source": [
    "import json\n",
    "\n",
    "with open('../d3_tree/flare.json', 'w') as fp:\n",
    "    json.dump(json_dict, fp)"
   ]
  },
  {
   "cell_type": "code",
   "execution_count": null,
   "metadata": {},
   "outputs": [],
   "source": []
  }
 ],
 "metadata": {
  "kernelspec": {
   "display_name": "Python (jupy2)",
   "language": "python",
   "name": "jupy2"
  },
  "language_info": {
   "codemirror_mode": {
    "name": "ipython",
    "version": 2
   },
   "file_extension": ".py",
   "mimetype": "text/x-python",
   "name": "python",
   "nbconvert_exporter": "python",
   "pygments_lexer": "ipython2",
   "version": "2.7.16"
  }
 },
 "nbformat": 4,
 "nbformat_minor": 2
}
