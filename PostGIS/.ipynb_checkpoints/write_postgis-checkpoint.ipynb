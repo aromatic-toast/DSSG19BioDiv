{
 "cells": [
  {
   "cell_type": "code",
   "execution_count": 56,
   "metadata": {},
   "outputs": [],
   "source": [
    "import psycopg2\n",
    "import osgeo.ogr\n",
    "import shapely\n",
    "import shapely.wkt\n",
    "import geopandas as gpd\n",
    "%matplotlib inline"
   ]
  },
  {
   "cell_type": "code",
   "execution_count": 57,
   "metadata": {},
   "outputs": [],
   "source": [
    "import pandas as pd\n",
    "df = pd.read_csv(\"gbif_summary.csv\", encoding=\"latin1\")"
   ]
  },
  {
   "cell_type": "code",
   "execution_count": 58,
   "metadata": {},
   "outputs": [
    {
     "data": {
      "text/html": [
       "<div>\n",
       "<style scoped>\n",
       "    .dataframe tbody tr th:only-of-type {\n",
       "        vertical-align: middle;\n",
       "    }\n",
       "\n",
       "    .dataframe tbody tr th {\n",
       "        vertical-align: top;\n",
       "    }\n",
       "\n",
       "    .dataframe thead th {\n",
       "        text-align: right;\n",
       "    }\n",
       "</style>\n",
       "<table border=\"1\" class=\"dataframe\">\n",
       "  <thead>\n",
       "    <tr style=\"text-align: right;\">\n",
       "      <th></th>\n",
       "      <th>Unnamed: 0</th>\n",
       "      <th>species</th>\n",
       "      <th>year</th>\n",
       "      <th>decimalLongitude</th>\n",
       "      <th>decimalLatitude</th>\n",
       "      <th>municipality</th>\n",
       "      <th>datasetName</th>\n",
       "    </tr>\n",
       "  </thead>\n",
       "  <tbody>\n",
       "    <tr>\n",
       "      <th>0</th>\n",
       "      <td>0</td>\n",
       "      <td>Bombus impatiens</td>\n",
       "      <td>2018</td>\n",
       "      <td>-123.214155</td>\n",
       "      <td>49.220991</td>\n",
       "      <td>1</td>\n",
       "      <td>iNaturalist Research-grade Observations</td>\n",
       "    </tr>\n",
       "    <tr>\n",
       "      <th>1</th>\n",
       "      <td>1</td>\n",
       "      <td>Calidris bairdii</td>\n",
       "      <td>2018</td>\n",
       "      <td>-123.212838</td>\n",
       "      <td>49.221082</td>\n",
       "      <td>1</td>\n",
       "      <td>iNaturalist Research-grade Observations</td>\n",
       "    </tr>\n",
       "    <tr>\n",
       "      <th>2</th>\n",
       "      <td>2</td>\n",
       "      <td>Hydroprogne caspia</td>\n",
       "      <td>2018</td>\n",
       "      <td>-123.213369</td>\n",
       "      <td>49.219913</td>\n",
       "      <td>1</td>\n",
       "      <td>iNaturalist Research-grade Observations</td>\n",
       "    </tr>\n",
       "    <tr>\n",
       "      <th>3</th>\n",
       "      <td>3</td>\n",
       "      <td>Passerculus sandwichensis</td>\n",
       "      <td>2018</td>\n",
       "      <td>-123.213379</td>\n",
       "      <td>49.220764</td>\n",
       "      <td>1</td>\n",
       "      <td>iNaturalist Research-grade Observations</td>\n",
       "    </tr>\n",
       "    <tr>\n",
       "      <th>4</th>\n",
       "      <td>4</td>\n",
       "      <td>Calidris bairdii</td>\n",
       "      <td>2018</td>\n",
       "      <td>-123.213018</td>\n",
       "      <td>49.220716</td>\n",
       "      <td>1</td>\n",
       "      <td>iNaturalist Research-grade Observations</td>\n",
       "    </tr>\n",
       "  </tbody>\n",
       "</table>\n",
       "</div>"
      ],
      "text/plain": [
       "   Unnamed: 0                    species  year  decimalLongitude  \\\n",
       "0           0           Bombus impatiens  2018       -123.214155   \n",
       "1           1           Calidris bairdii  2018       -123.212838   \n",
       "2           2         Hydroprogne caspia  2018       -123.213369   \n",
       "3           3  Passerculus sandwichensis  2018       -123.213379   \n",
       "4           4           Calidris bairdii  2018       -123.213018   \n",
       "\n",
       "   decimalLatitude  municipality                              datasetName  \n",
       "0        49.220991             1  iNaturalist Research-grade Observations  \n",
       "1        49.221082             1  iNaturalist Research-grade Observations  \n",
       "2        49.219913             1  iNaturalist Research-grade Observations  \n",
       "3        49.220764             1  iNaturalist Research-grade Observations  \n",
       "4        49.220716             1  iNaturalist Research-grade Observations  "
      ]
     },
     "execution_count": 58,
     "metadata": {},
     "output_type": "execute_result"
    }
   ],
   "source": [
    "df.head()"
   ]
  },
  {
   "cell_type": "code",
   "execution_count": 59,
   "metadata": {},
   "outputs": [],
   "source": [
    "from shapely.geometry import Point"
   ]
  },
  {
   "cell_type": "code",
   "execution_count": 60,
   "metadata": {},
   "outputs": [],
   "source": [
    "connection = psycopg2.connect(database=\"myproject\",user=\"myprojectuser\", password=\"password\")\n",
    "cursor = connection.cursor()"
   ]
  },
  {
   "cell_type": "code",
   "execution_count": 61,
   "metadata": {},
   "outputs": [],
   "source": [
    "cursor.execute(\"DELETE FROM biodivmap_gbifsummaryfull\")"
   ]
  },
  {
   "cell_type": "code",
   "execution_count": 62,
   "metadata": {},
   "outputs": [],
   "source": [
    "for i in range(0, df.shape[0]):\n",
    "    r = df.loc[i]\n",
    "    query = \"INSERT INTO biodivmap_gbifsummaryfull (datasetname, species, year, lon, lat, point) VALUES (%s,%s,%s,%s,%s,ST_SetSRID(ST_MakePoint(%s, %s), 4326))\"\n",
    "    record_to_insert = (df.loc[i][\"datasetName\"], df.loc[i][\"species\"], int(df.loc[i][\"year\"]), \n",
    "                           df.loc[i][\"decimalLongitude\"], df.loc[i][\"decimalLatitude\"], df.loc[i][\"decimalLongitude\"], df.loc[i][\"decimalLatitude\"])      \n",
    "    cursor.execute(query, record_to_insert)\n",
    "    \n",
    "    "
   ]
  },
  {
   "cell_type": "code",
   "execution_count": 63,
   "metadata": {},
   "outputs": [],
   "source": [
    "connection.commit()"
   ]
  },
  {
   "cell_type": "code",
   "execution_count": null,
   "metadata": {},
   "outputs": [],
   "source": []
  },
  {
   "cell_type": "code",
   "execution_count": 35,
   "metadata": {},
   "outputs": [],
   "source": [
    "poisInpolygon = \"\"\"SELECT *\n",
    "FROM biodivmap_gbifsummary\n",
    "WHERE\n",
    "ST_Contains(biodivmap_gbifsummary.point,('POLYGON((-15.0292969 47.6357836,-15.2050781 47.5172007,-16.2597656 29.3821751, 35.0683594 26.1159859, 38.0566406 47.6357836,-15.0292969 47.6357836))'));\"\"\"\n",
    "cursor.execute(poisInpolygon)"
   ]
  },
  {
   "cell_type": "code",
   "execution_count": 37,
   "metadata": {},
   "outputs": [
    {
     "data": {
      "text/plain": [
       "[]"
      ]
     },
     "execution_count": 37,
     "metadata": {},
     "output_type": "execute_result"
    }
   ],
   "source": [
    "cursor.fetchall()"
   ]
  },
  {
   "cell_type": "code",
   "execution_count": 34,
   "metadata": {},
   "outputs": [],
   "source": [
    "df = pd.read_csv(\"gbif_summary.csv\", encoding=\"latin1\")"
   ]
  },
  {
   "cell_type": "code",
   "execution_count": 35,
   "metadata": {},
   "outputs": [
    {
     "data": {
      "text/html": [
       "<div>\n",
       "<style scoped>\n",
       "    .dataframe tbody tr th:only-of-type {\n",
       "        vertical-align: middle;\n",
       "    }\n",
       "\n",
       "    .dataframe tbody tr th {\n",
       "        vertical-align: top;\n",
       "    }\n",
       "\n",
       "    .dataframe thead th {\n",
       "        text-align: right;\n",
       "    }\n",
       "</style>\n",
       "<table border=\"1\" class=\"dataframe\">\n",
       "  <thead>\n",
       "    <tr style=\"text-align: right;\">\n",
       "      <th></th>\n",
       "      <th>Unnamed: 0</th>\n",
       "      <th>species</th>\n",
       "      <th>year</th>\n",
       "      <th>decimalLongitude</th>\n",
       "      <th>decimalLatitude</th>\n",
       "      <th>municipality</th>\n",
       "      <th>datasetName</th>\n",
       "    </tr>\n",
       "  </thead>\n",
       "  <tbody>\n",
       "    <tr>\n",
       "      <th>0</th>\n",
       "      <td>0</td>\n",
       "      <td>Bombus impatiens</td>\n",
       "      <td>2018</td>\n",
       "      <td>-123.214155</td>\n",
       "      <td>49.220991</td>\n",
       "      <td>1</td>\n",
       "      <td>iNaturalist Research-grade Observations</td>\n",
       "    </tr>\n",
       "    <tr>\n",
       "      <th>1</th>\n",
       "      <td>1</td>\n",
       "      <td>Calidris bairdii</td>\n",
       "      <td>2018</td>\n",
       "      <td>-123.212838</td>\n",
       "      <td>49.221082</td>\n",
       "      <td>1</td>\n",
       "      <td>iNaturalist Research-grade Observations</td>\n",
       "    </tr>\n",
       "    <tr>\n",
       "      <th>2</th>\n",
       "      <td>2</td>\n",
       "      <td>Hydroprogne caspia</td>\n",
       "      <td>2018</td>\n",
       "      <td>-123.213369</td>\n",
       "      <td>49.219913</td>\n",
       "      <td>1</td>\n",
       "      <td>iNaturalist Research-grade Observations</td>\n",
       "    </tr>\n",
       "    <tr>\n",
       "      <th>3</th>\n",
       "      <td>3</td>\n",
       "      <td>Passerculus sandwichensis</td>\n",
       "      <td>2018</td>\n",
       "      <td>-123.213379</td>\n",
       "      <td>49.220764</td>\n",
       "      <td>1</td>\n",
       "      <td>iNaturalist Research-grade Observations</td>\n",
       "    </tr>\n",
       "    <tr>\n",
       "      <th>4</th>\n",
       "      <td>4</td>\n",
       "      <td>Calidris bairdii</td>\n",
       "      <td>2018</td>\n",
       "      <td>-123.213018</td>\n",
       "      <td>49.220716</td>\n",
       "      <td>1</td>\n",
       "      <td>iNaturalist Research-grade Observations</td>\n",
       "    </tr>\n",
       "  </tbody>\n",
       "</table>\n",
       "</div>"
      ],
      "text/plain": [
       "   Unnamed: 0                    species  year  decimalLongitude  \\\n",
       "0           0           Bombus impatiens  2018       -123.214155   \n",
       "1           1           Calidris bairdii  2018       -123.212838   \n",
       "2           2         Hydroprogne caspia  2018       -123.213369   \n",
       "3           3  Passerculus sandwichensis  2018       -123.213379   \n",
       "4           4           Calidris bairdii  2018       -123.213018   \n",
       "\n",
       "   decimalLatitude  municipality                              datasetName  \n",
       "0        49.220991             1  iNaturalist Research-grade Observations  \n",
       "1        49.221082             1  iNaturalist Research-grade Observations  \n",
       "2        49.219913             1  iNaturalist Research-grade Observations  \n",
       "3        49.220764             1  iNaturalist Research-grade Observations  \n",
       "4        49.220716             1  iNaturalist Research-grade Observations  "
      ]
     },
     "execution_count": 35,
     "metadata": {},
     "output_type": "execute_result"
    }
   ],
   "source": [
    "df.head()"
   ]
  },
  {
   "cell_type": "code",
   "execution_count": null,
   "metadata": {},
   "outputs": [],
   "source": []
  }
 ],
 "metadata": {
  "kernelspec": {
   "display_name": "Python (django)",
   "language": "python",
   "name": "django"
  },
  "language_info": {
   "codemirror_mode": {
    "name": "ipython",
    "version": 3
   },
   "file_extension": ".py",
   "mimetype": "text/x-python",
   "name": "python",
   "nbconvert_exporter": "python",
   "pygments_lexer": "ipython3",
   "version": "3.7.3"
  }
 },
 "nbformat": 4,
 "nbformat_minor": 2
}
