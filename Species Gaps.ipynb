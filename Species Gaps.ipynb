{
 "cells": [
  {
   "cell_type": "code",
   "execution_count": 3,
   "metadata": {},
   "outputs": [],
   "source": [
    "import pandas as pd"
   ]
  },
  {
   "cell_type": "code",
   "execution_count": 111,
   "metadata": {},
   "outputs": [],
   "source": [
    "df_rainbow = pd.read_csv('bc_rainbow_list.tsv', sep = '\\t')"
   ]
  },
  {
   "cell_type": "code",
   "execution_count": 86,
   "metadata": {},
   "outputs": [],
   "source": [
    "df_gbif = pd.read_csv('gbif_full.csv', sep = '\\t')"
   ]
  },
  {
   "cell_type": "code",
   "execution_count": 26,
   "metadata": {},
   "outputs": [],
   "source": [
    "df_gbif = df_gbif[['species', 'genus']]\n",
    "df_gbif = df_gbif.drop_duplicates(subset=['species'])\n",
    "df_gbif = df_gbif.reset_index()\n",
    "df_gbif = df_gbif.drop(['index'], 1)\n",
    "df_gbif['species'] = df_gbif['species'].astype(str)\n",
    "df_gbif['specific'] = df_gbif['species'].apply(lambda x: x.split(\" \")[-1])"
   ]
  },
  {
   "cell_type": "code",
   "execution_count": 43,
   "metadata": {},
   "outputs": [],
   "source": [
    "gp = df_gbif.groupby('specific')\n",
    "indexes_gbif = gp.size().index.to_list()\n",
    "values_gbif = list(gp.size().values)"
   ]
  },
  {
   "cell_type": "code",
   "execution_count": null,
   "metadata": {},
   "outputs": [],
   "source": []
  },
  {
   "cell_type": "code",
   "execution_count": 55,
   "metadata": {},
   "outputs": [],
   "source": [
    "df_rainbow = df_rainbow[['Scientific Name']]\n",
    "df_rainbow['species'] = df_rainbow['Scientific Name']\n",
    "df_rainbow = df_rainbow.drop(['Scientific Name'], 1)\n",
    "df_rainbow['specific'] = df_rainbow['species'].apply(lambda x: x.split(\" \")[-1])\n",
    "df_rainbow['genus'] = df_rainbow['species'].apply(lambda x: x.split(\" \")[0])"
   ]
  },
  {
   "cell_type": "code",
   "execution_count": 71,
   "metadata": {},
   "outputs": [],
   "source": [
    "gp = df_rainbow.groupby('specific')\n",
    "indexes_rain = gp.size().index.to_list()\n",
    "values_rain = list(gp.size().values)"
   ]
  },
  {
   "cell_type": "code",
   "execution_count": 77,
   "metadata": {},
   "outputs": [],
   "source": [
    "nice = 0\n",
    "bad = 0\n",
    "worst = 0\n",
    "species_not_found = 0\n",
    "for gbif_ind, gbif_val in zip(indexes_gbif, values_gbif):\n",
    "    if (gbif_ind in indexes_rain):\n",
    "        list_ind_rain = indexes_rain.index(gbif_ind)\n",
    "        rain_val = values_rain[list_ind_rain]\n",
    "        if ( rain_val == gbif_val):\n",
    "            nice = nice + 1\n",
    "        elif (gbif_val > rain_val):\n",
    "            worst = worst + 1\n",
    "        else:\n",
    "            bad = bad + 1\n",
    "    else:\n",
    "        species_not_found = species_not_found + 1"
   ]
  },
  {
   "cell_type": "code",
   "execution_count": 78,
   "metadata": {},
   "outputs": [
    {
     "data": {
      "text/plain": [
       "1924"
      ]
     },
     "execution_count": 78,
     "metadata": {},
     "output_type": "execute_result"
    }
   ],
   "source": [
    "nice"
   ]
  },
  {
   "cell_type": "code",
   "execution_count": 79,
   "metadata": {},
   "outputs": [
    {
     "data": {
      "text/plain": [
       "786"
      ]
     },
     "execution_count": 79,
     "metadata": {},
     "output_type": "execute_result"
    }
   ],
   "source": [
    "bad"
   ]
  },
  {
   "cell_type": "code",
   "execution_count": 80,
   "metadata": {},
   "outputs": [
    {
     "data": {
      "text/plain": [
       "694"
      ]
     },
     "execution_count": 80,
     "metadata": {},
     "output_type": "execute_result"
    }
   ],
   "source": [
    "worst"
   ]
  },
  {
   "cell_type": "code",
   "execution_count": 81,
   "metadata": {},
   "outputs": [
    {
     "data": {
      "text/plain": [
       "4703"
      ]
     },
     "execution_count": 81,
     "metadata": {},
     "output_type": "execute_result"
    }
   ],
   "source": [
    "species_not_found"
   ]
  },
  {
   "cell_type": "code",
   "execution_count": 84,
   "metadata": {},
   "outputs": [
    {
     "data": {
      "text/plain": [
       "8107"
      ]
     },
     "execution_count": 84,
     "metadata": {},
     "output_type": "execute_result"
    }
   ],
   "source": [
    "len(indexes_gbif)"
   ]
  },
  {
   "cell_type": "markdown",
   "metadata": {},
   "source": [
    "<h3> Bad scenario here. More than half of the specific species names in gbif do not occur in the yellow list </h3>"
   ]
  },
  {
   "cell_type": "code",
   "execution_count": 87,
   "metadata": {},
   "outputs": [],
   "source": [
    "df_gbif = df_gbif[['genus']]\n",
    "df_gbif = df_gbif.drop_duplicates(subset=['genus'])\n",
    "df_gbif = df_gbif.reset_index()\n",
    "df_gbif = df_gbif.drop(['index'], 1)"
   ]
  },
  {
   "cell_type": "code",
   "execution_count": 97,
   "metadata": {},
   "outputs": [],
   "source": [
    "genus_gbif = list(df_gbif.genus.values)"
   ]
  },
  {
   "cell_type": "code",
   "execution_count": 112,
   "metadata": {},
   "outputs": [],
   "source": [
    "df_rainbow = df_rainbow[['Scientific Name']]\n",
    "df_rainbow['genus'] = df_rainbow['Scientific Name'].apply(lambda x: x.split(\" \")[0])\n",
    "df_rainbow = df_rainbow.drop(['Scientific Name'], 1)\n",
    "df_rainbow = df_rainbow.drop_duplicates(subset=['genus'])\n",
    "df_rainbow = df_rainbow.reset_index()\n",
    "df_rainbow = df_rainbow.drop(['index'], 1)"
   ]
  },
  {
   "cell_type": "code",
   "execution_count": 114,
   "metadata": {},
   "outputs": [],
   "source": [
    "genus_rain = list(df_rainbow.genus.values)"
   ]
  },
  {
   "cell_type": "code",
   "execution_count": 117,
   "metadata": {},
   "outputs": [],
   "source": [
    "count = 0 \n",
    "for gen_gbif in genus_gbif:\n",
    "    if (gen_gbif in genus_rain):\n",
    "        count = count + 1"
   ]
  },
  {
   "cell_type": "code",
   "execution_count": 118,
   "metadata": {},
   "outputs": [
    {
     "data": {
      "text/plain": [
       "1848"
      ]
     },
     "execution_count": 118,
     "metadata": {},
     "output_type": "execute_result"
    }
   ],
   "source": [
    "count"
   ]
  },
  {
   "cell_type": "code",
   "execution_count": 119,
   "metadata": {},
   "outputs": [
    {
     "data": {
      "text/plain": [
       "6642"
      ]
     },
     "execution_count": 119,
     "metadata": {},
     "output_type": "execute_result"
    }
   ],
   "source": [
    "len(genus_gbif)"
   ]
  },
  {
   "cell_type": "code",
   "execution_count": 120,
   "metadata": {},
   "outputs": [
    {
     "data": {
      "text/plain": [
       "4256"
      ]
     },
     "execution_count": 120,
     "metadata": {},
     "output_type": "execute_result"
    }
   ],
   "source": [
    "len(genus_rain)"
   ]
  },
  {
   "cell_type": "markdown",
   "metadata": {},
   "source": [
    "<h3> Out of 6642 genera in gbif only 1848 exist in yellow list which has 4256 genera </h3>"
   ]
  },
  {
   "cell_type": "code",
   "execution_count": null,
   "metadata": {},
   "outputs": [],
   "source": []
  }
 ],
 "metadata": {
  "kernelspec": {
   "display_name": "Python (jupy2)",
   "language": "python",
   "name": "jupy2"
  },
  "language_info": {
   "codemirror_mode": {
    "name": "ipython",
    "version": 2
   },
   "file_extension": ".py",
   "mimetype": "text/x-python",
   "name": "python",
   "nbconvert_exporter": "python",
   "pygments_lexer": "ipython2",
   "version": "2.7.16"
  }
 },
 "nbformat": 4,
 "nbformat_minor": 2
}
