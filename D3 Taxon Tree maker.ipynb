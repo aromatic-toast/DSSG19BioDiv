{
 "cells": [
  {
   "cell_type": "code",
   "execution_count": 1,
   "metadata": {},
   "outputs": [],
   "source": [
    "import pandas as pd"
   ]
  },
  {
   "cell_type": "code",
   "execution_count": 2,
   "metadata": {},
   "outputs": [],
   "source": [
    "df = pd.read_csv(\"Taxonomy Freq.csv\")\n",
    "df['label'] = df.index.values"
   ]
  },
  {
   "cell_type": "code",
   "execution_count": 3,
   "metadata": {},
   "outputs": [],
   "source": [
    "df[['kingdom', 'phylum', 'class',\n",
    "    'order', 'family', 'genus', 'species']] = df[['kingdom', \n",
    "                                                         'phylum', 'class', 'order', 'family', 'genus', 'species']].fillna(value=\"Unknown\")"
   ]
  },
  {
   "cell_type": "code",
   "execution_count": 4,
   "metadata": {},
   "outputs": [],
   "source": [
    "allLevels = ['kingdom', 'phylum', 'class', 'order', 'family', 'genus', 'species', 'end']\n",
    "taxLevel = ['kingdom', 'phylum', 'class', 'order', 'family', 'genus', 'species', 'end']\n",
    "df = df.drop((set(allLevels) - set(taxLevel)), 1)\n",
    "\n",
    "def getDict(taxLevelIndex, prevIndex):\n",
    "    list_dicts = []\n",
    "    if taxLevel[taxLevelIndex] == 'end':\n",
    "        return ([], 0)\n",
    "    if taxLevel[taxLevelIndex] == 'kingdom':\n",
    "        df_size = df.shape[0]\n",
    "        gp = df.groupby(taxLevel[taxLevelIndex])\n",
    "        \n",
    "    else:\n",
    "        df_size = df[df[taxLevel[taxLevelIndex-1]] == prevIndex].shape[0]\n",
    "        gp = df[df[taxLevel[taxLevelIndex-1]] == prevIndex].groupby(taxLevel[taxLevelIndex])\n",
    "        \n",
    "    indexes = gp.size().index.to_list()\n",
    "    values = list(gp.size().values)\n",
    "    num_types = len(gp)\n",
    "    ind_val = zip(indexes, values)\n",
    "    ind_val.sort(key=lambda tup: tup[1], reverse = True)\n",
    "    for i in ind_val:\n",
    "        index = i[0]\n",
    "        value = i[1]\n",
    "        next_data, num_types_next = getDict(taxLevelIndex + 1, index)\n",
    "        curr_gp = gp.get_group(index)\n",
    "        redList = 0\n",
    "        if (curr_gp.redList.unique().shape[0] > 1 or not pd.isna(curr_gp.redList.unique()[0])):\n",
    "            redList = 1\n",
    "        list_dicts.append({\"index\": curr_gp.iloc[0]['label'], \"name\": index, \n",
    "                       \"taxLevel\": taxLevel[taxLevelIndex], \"types\": num_types_next, \n",
    "                       \"size\": value, \"ratio\": (1.0 * value)/df_size, \"children\": next_data,\n",
    "                       \"redList\": redList})\n",
    "    \n",
    "    \n",
    "    return (list_dicts, num_types)\n",
    "    \n",
    "    #return a dictionary of name and children\n",
    "    "
   ]
  },
  {
   "cell_type": "code",
   "execution_count": null,
   "metadata": {},
   "outputs": [],
   "source": [
    "json_dict, num_types = getDict(0, \"blah\")\n",
    "json_dict = {\"index\": - 1, \"name\": \"Organisms\", 'taxLevel': \"organisms\", \"types\": num_types, \"children\": json_dict, \"ratio\": 1.0,\n",
    "            \"size\": df.shape[0], \"redList\": 1}\n"
   ]
  },
  {
   "cell_type": "code",
   "execution_count": 4,
   "metadata": {},
   "outputs": [],
   "source": [
    "df = df[df.redList.notnull()]"
   ]
  },
  {
   "cell_type": "code",
   "execution_count": 6,
   "metadata": {},
   "outputs": [],
   "source": [
    "allLevels = ['kingdom', 'phylum', 'class', 'order', 'family', 'genus', 'species', 'end']\n",
    "taxLevel = ['kingdom', 'phylum', 'class', 'order', 'family', 'genus', 'species', 'end']\n",
    "df = df.drop((set(allLevels) - set(taxLevel)), 1)\n",
    "\n",
    "def getDict(taxLevelIndex, prevIndex):\n",
    "    list_dicts = []\n",
    "    if taxLevel[taxLevelIndex] == 'end':\n",
    "        return ([], 0)\n",
    "    if taxLevel[taxLevelIndex] == 'kingdom':\n",
    "        df_size = df.shape[0]\n",
    "        gp = df.groupby(taxLevel[taxLevelIndex])\n",
    "        \n",
    "    else:\n",
    "        df_size = df[df[taxLevel[taxLevelIndex-1]] == prevIndex].shape[0]\n",
    "        gp = df[df[taxLevel[taxLevelIndex-1]] == prevIndex].groupby(taxLevel[taxLevelIndex])\n",
    "        \n",
    "    indexes = gp.size().index.to_list()\n",
    "    values = list(gp.size().values)\n",
    "    num_types = len(gp)\n",
    "    ind_val = zip(indexes, values)\n",
    "    ind_val.sort(key=lambda tup: tup[1], reverse = True)\n",
    "    for i in ind_val:\n",
    "        index = i[0]\n",
    "        value = i[1]\n",
    "        next_data, num_types_next = getDict(taxLevelIndex + 1, index)\n",
    "        curr_gp = gp.get_group(index)\n",
    "        redList = 0\n",
    "        if (curr_gp.redList.unique().shape[0] > 1 or not pd.isna(curr_gp.redList.unique()[0])):\n",
    "            redList = 1\n",
    "        if (taxLevel[taxLevelIndex] == \"species\"):\n",
    "            list_dicts.append({\"name\": index, \n",
    "                           \n",
    "                           \"value\": value, \"children\": next_data,\n",
    "                           })\n",
    "        else:\n",
    "            list_dicts.append({\"name\": index, \n",
    "                           \n",
    "                          \"children\": next_data,\n",
    "                           })\n",
    "    \n",
    "    \n",
    "    return (list_dicts, num_types)\n",
    "    \n",
    "    #return a dictionary of name and children\n",
    "    "
   ]
  },
  {
   "cell_type": "code",
   "execution_count": 7,
   "metadata": {},
   "outputs": [],
   "source": [
    "json_dict, num_types = getDict(0, \"blah\")\n",
    "json_dict = {\"name\": \"Organisms\", \"children\": json_dict}\n"
   ]
  },
  {
   "cell_type": "code",
   "execution_count": 8,
   "metadata": {},
   "outputs": [],
   "source": [
    "import json\n",
    "\n",
    "with open('map_django/biodivmap/static/biodivmap/bar_chart.json', 'w') as fp:\n",
    "    json.dump(json_dict, fp)"
   ]
  },
  {
   "cell_type": "code",
   "execution_count": 112,
   "metadata": {},
   "outputs": [
    {
     "data": {
      "text/plain": [
       "array(['Magnoliopsida', 'Pinopsida', 'Liliopsida', 'Polypodiopsida',\n",
       "       'Marattiopsida', 'Psilotopsida', 'Cycadopsida', 'Lycopodiopsida',\n",
       "       'Gnetopsida', 'Equisetopsida', 'Ginkgoopsida', 'Insecta'],\n",
       "      dtype=object)"
      ]
     },
     "execution_count": 112,
     "metadata": {},
     "output_type": "execute_result"
    }
   ],
   "source": [
    "df_2.merge(df_1, how=\"outer\")['class'].unique()"
   ]
  },
  {
   "cell_type": "code",
   "execution_count": null,
   "metadata": {},
   "outputs": [],
   "source": []
  }
 ],
 "metadata": {
  "kernelspec": {
   "display_name": "Python (jupy2)",
   "language": "python",
   "name": "jupy2"
  },
  "language_info": {
   "codemirror_mode": {
    "name": "ipython",
    "version": 2
   },
   "file_extension": ".py",
   "mimetype": "text/x-python",
   "name": "python",
   "nbconvert_exporter": "python",
   "pygments_lexer": "ipython2",
   "version": "2.7.16"
  }
 },
 "nbformat": 4,
 "nbformat_minor": 2
}
